{
  "nbformat": 4,
  "nbformat_minor": 0,
  "metadata": {
    "colab": {
      "provenance": [],
      "authorship_tag": "ABX9TyOLhMDT6zJ9S/9ELm5gVrgS",
      "include_colab_link": true
    },
    "kernelspec": {
      "name": "python3",
      "display_name": "Python 3"
    },
    "language_info": {
      "name": "python"
    }
  },
  "cells": [
    {
      "cell_type": "markdown",
      "metadata": {
        "id": "view-in-github",
        "colab_type": "text"
      },
      "source": [
        "<a href=\"https://colab.research.google.com/github/naman-DA/PySpark_Project/blob/main/PySpark.ipynb\" target=\"_parent\"><img src=\"https://colab.research.google.com/assets/colab-badge.svg\" alt=\"Open In Colab\"/></a>"
      ]
    },
    {
      "cell_type": "code",
      "source": [
        "!pip install pyspark"
      ],
      "metadata": {
        "colab": {
          "base_uri": "https://localhost:8080/"
        },
        "id": "NyWQewU5HplH",
        "outputId": "2b7c1d1e-05a8-4a6f-eb11-d40d311cb582"
      },
      "execution_count": 1,
      "outputs": [
        {
          "output_type": "stream",
          "name": "stdout",
          "text": [
            "Requirement already satisfied: pyspark in /usr/local/lib/python3.11/dist-packages (3.5.1)\n",
            "Requirement already satisfied: py4j==0.10.9.7 in /usr/local/lib/python3.11/dist-packages (from pyspark) (0.10.9.7)\n"
          ]
        }
      ]
    },
    {
      "cell_type": "code",
      "source": [
        "from pyspark.sql import SparkSession"
      ],
      "metadata": {
        "id": "hBfzdXENIycO"
      },
      "execution_count": 2,
      "outputs": []
    },
    {
      "cell_type": "code",
      "source": [
        "spark = SparkSession.builder.appName('Pyspark').getOrCreate()"
      ],
      "metadata": {
        "id": "BWjWzVZ2JLbt"
      },
      "execution_count": 3,
      "outputs": []
    },
    {
      "cell_type": "code",
      "source": [
        "spark"
      ],
      "metadata": {
        "colab": {
          "base_uri": "https://localhost:8080/",
          "height": 219
        },
        "id": "M4jwiH0NJYqJ",
        "outputId": "a0360b7b-8c9b-434c-c217-e5be6b5ccc03"
      },
      "execution_count": 4,
      "outputs": [
        {
          "output_type": "execute_result",
          "data": {
            "text/plain": [
              "<pyspark.sql.session.SparkSession at 0x7ee3ea58d5d0>"
            ],
            "text/html": [
              "\n",
              "            <div>\n",
              "                <p><b>SparkSession - in-memory</b></p>\n",
              "                \n",
              "        <div>\n",
              "            <p><b>SparkContext</b></p>\n",
              "\n",
              "            <p><a href=\"http://a4889157153c:4040\">Spark UI</a></p>\n",
              "\n",
              "            <dl>\n",
              "              <dt>Version</dt>\n",
              "                <dd><code>v3.5.1</code></dd>\n",
              "              <dt>Master</dt>\n",
              "                <dd><code>local[*]</code></dd>\n",
              "              <dt>AppName</dt>\n",
              "                <dd><code>Pyspark</code></dd>\n",
              "            </dl>\n",
              "        </div>\n",
              "        \n",
              "            </div>\n",
              "        "
            ]
          },
          "metadata": {},
          "execution_count": 4
        }
      ]
    },
    {
      "cell_type": "code",
      "source": [
        "df = spark.read.csv('/content/sample_data/marks.csv', header = True, inferSchema = True)"
      ],
      "metadata": {
        "id": "I3b9MDubJeMI"
      },
      "execution_count": 10,
      "outputs": []
    },
    {
      "cell_type": "markdown",
      "source": [
        "1. Display Top 3 Rows of the Dataset"
      ],
      "metadata": {
        "id": "ZMulx0Q9Q3Bi"
      }
    },
    {
      "cell_type": "code",
      "source": [
        "df.show(3)"
      ],
      "metadata": {
        "colab": {
          "base_uri": "https://localhost:8080/"
        },
        "id": "L4A4haHMKOIk",
        "outputId": "3cee2034-fd65-4372-e50e-681685d040ae"
      },
      "execution_count": 11,
      "outputs": [
        {
          "output_type": "stream",
          "name": "stdout",
          "text": [
            "+-------+-----+------+\n",
            "|   Name|Marks|Gender|\n",
            "+-------+-----+------+\n",
            "|Priyang|   98|  Male|\n",
            "| Aadhya|   89|Female|\n",
            "| Krisha|   99|Female|\n",
            "+-------+-----+------+\n",
            "only showing top 3 rows\n",
            "\n"
          ]
        }
      ]
    },
    {
      "cell_type": "markdown",
      "source": [
        "2. Display Datatype of Each Column"
      ],
      "metadata": {
        "id": "ac3XFcCCQ9vz"
      }
    },
    {
      "cell_type": "code",
      "source": [
        "df.printSchema()"
      ],
      "metadata": {
        "colab": {
          "base_uri": "https://localhost:8080/"
        },
        "id": "fX0OT4itKVJq",
        "outputId": "2ad66a70-e524-4e94-e655-49d9982eb1c2"
      },
      "execution_count": 12,
      "outputs": [
        {
          "output_type": "stream",
          "name": "stdout",
          "text": [
            "root\n",
            " |-- Name: string (nullable = true)\n",
            " |-- Marks: integer (nullable = true)\n",
            " |-- Gender: string (nullable = true)\n",
            "\n"
          ]
        }
      ]
    },
    {
      "cell_type": "markdown",
      "source": [
        "3. Display Column Names"
      ],
      "metadata": {
        "id": "RY7xGvkURRUs"
      }
    },
    {
      "cell_type": "code",
      "source": [
        "df.columns"
      ],
      "metadata": {
        "colab": {
          "base_uri": "https://localhost:8080/"
        },
        "id": "HV0VKWYPKzxZ",
        "outputId": "6628a942-98b9-4eb3-ba0d-c99adf30db31"
      },
      "execution_count": 13,
      "outputs": [
        {
          "output_type": "execute_result",
          "data": {
            "text/plain": [
              "['Name', 'Marks', 'Gender']"
            ]
          },
          "metadata": {},
          "execution_count": 13
        }
      ]
    },
    {
      "cell_type": "markdown",
      "source": [
        "4. Count number of Rows and Columns of the dataset"
      ],
      "metadata": {
        "id": "4jXqrpc2RVSl"
      }
    },
    {
      "cell_type": "code",
      "source": [
        "df.count()"
      ],
      "metadata": {
        "colab": {
          "base_uri": "https://localhost:8080/"
        },
        "id": "SAR47U8wLe6N",
        "outputId": "268d3088-17e2-4293-a0fb-130c92f337b3"
      },
      "execution_count": 14,
      "outputs": [
        {
          "output_type": "execute_result",
          "data": {
            "text/plain": [
              "7"
            ]
          },
          "metadata": {},
          "execution_count": 14
        }
      ]
    },
    {
      "cell_type": "code",
      "source": [
        "len(df.columns)"
      ],
      "metadata": {
        "colab": {
          "base_uri": "https://localhost:8080/"
        },
        "id": "clpySr85Lj0n",
        "outputId": "15728b24-0614-4066-90fb-b4b4522d9940"
      },
      "execution_count": 15,
      "outputs": [
        {
          "output_type": "execute_result",
          "data": {
            "text/plain": [
              "3"
            ]
          },
          "metadata": {},
          "execution_count": 15
        }
      ]
    },
    {
      "cell_type": "markdown",
      "source": [
        "5. Get Overall Statistics about the dataset"
      ],
      "metadata": {
        "id": "0QgM-PE5Refc"
      }
    },
    {
      "cell_type": "code",
      "source": [
        "df.describe().show()"
      ],
      "metadata": {
        "colab": {
          "base_uri": "https://localhost:8080/"
        },
        "id": "cuXSoQ0VLnbQ",
        "outputId": "ae87bee0-e505-4c48-c9c8-ae581de2694c"
      },
      "execution_count": 16,
      "outputs": [
        {
          "output_type": "stream",
          "name": "stdout",
          "text": [
            "+-------+------+------------------+------+\n",
            "|summary|  Name|             Marks|Gender|\n",
            "+-------+------+------------------+------+\n",
            "|  count|     7|                 7|     7|\n",
            "|   mean|  NULL| 89.71428571428571|  NULL|\n",
            "| stddev|  NULL|6.6761836831702395|  NULL|\n",
            "|    min|Aadhya|                82|Female|\n",
            "|    max|Vedant|                99|  Male|\n",
            "+-------+------+------------------+------+\n",
            "\n"
          ]
        }
      ]
    },
    {
      "cell_type": "markdown",
      "source": [
        "6. Find unique values available in the Gender column"
      ],
      "metadata": {
        "id": "e5MbjzQ7Rnn4"
      }
    },
    {
      "cell_type": "code",
      "source": [
        "df.toPandas()['Gender'].unique()"
      ],
      "metadata": {
        "colab": {
          "base_uri": "https://localhost:8080/"
        },
        "id": "6VezcWO2Lsf6",
        "outputId": "76c75e88-f4f5-4747-eb79-2105dfe16a1a"
      },
      "execution_count": 17,
      "outputs": [
        {
          "output_type": "execute_result",
          "data": {
            "text/plain": [
              "array(['Male', 'Female'], dtype=object)"
            ]
          },
          "metadata": {},
          "execution_count": 17
        }
      ]
    },
    {
      "cell_type": "markdown",
      "source": [
        "7. Find total number unique values available in the Gender column"
      ],
      "metadata": {
        "id": "fXr6dJaIRsJy"
      }
    },
    {
      "cell_type": "code",
      "source": [
        "len(df.toPandas()['Gender'].unique())"
      ],
      "metadata": {
        "colab": {
          "base_uri": "https://localhost:8080/"
        },
        "id": "pM4VM3ORL3Po",
        "outputId": "219ed271-48e6-402e-8606-af18847e7bc8"
      },
      "execution_count": 18,
      "outputs": [
        {
          "output_type": "execute_result",
          "data": {
            "text/plain": [
              "2"
            ]
          },
          "metadata": {},
          "execution_count": 18
        }
      ]
    },
    {
      "cell_type": "code",
      "source": [
        "df.show()"
      ],
      "metadata": {
        "colab": {
          "base_uri": "https://localhost:8080/"
        },
        "id": "3Qg7zWLFL_o1",
        "outputId": "6d42f2f4-fa99-43fe-e20d-fc638c9ca528"
      },
      "execution_count": 19,
      "outputs": [
        {
          "output_type": "stream",
          "name": "stdout",
          "text": [
            "+-------+-----+------+\n",
            "|   Name|Marks|Gender|\n",
            "+-------+-----+------+\n",
            "|Priyang|   98|  Male|\n",
            "| Aadhya|   89|Female|\n",
            "| Krisha|   99|Female|\n",
            "| Vedant|   87|  Male|\n",
            "| Parshv|   90|  Male|\n",
            "| Mittal|   83|  Male|\n",
            "|Archana|   82|Female|\n",
            "+-------+-----+------+\n",
            "\n"
          ]
        }
      ]
    },
    {
      "cell_type": "markdown",
      "source": [
        "8. How select Single column?"
      ],
      "metadata": {
        "id": "J-oL5yvJR4Rp"
      }
    },
    {
      "cell_type": "code",
      "source": [
        "df.select('Name').show()"
      ],
      "metadata": {
        "colab": {
          "base_uri": "https://localhost:8080/"
        },
        "id": "saTKNL14MEyF",
        "outputId": "f97cda33-1999-45ea-e7be-5d76a97d02e7"
      },
      "execution_count": 21,
      "outputs": [
        {
          "output_type": "stream",
          "name": "stdout",
          "text": [
            "+-------+\n",
            "|   Name|\n",
            "+-------+\n",
            "|Priyang|\n",
            "| Aadhya|\n",
            "| Krisha|\n",
            "| Vedant|\n",
            "| Parshv|\n",
            "| Mittal|\n",
            "|Archana|\n",
            "+-------+\n",
            "\n"
          ]
        }
      ]
    },
    {
      "cell_type": "markdown",
      "source": [
        "9. How select Multiple columns?"
      ],
      "metadata": {
        "id": "rv8HtlReR-WU"
      }
    },
    {
      "cell_type": "code",
      "source": [
        "df.select(['Name', 'Gender']).show()"
      ],
      "metadata": {
        "colab": {
          "base_uri": "https://localhost:8080/"
        },
        "id": "_wOitae1MIa8",
        "outputId": "1f56b8a5-3f54-464b-a210-b435c4413bd9"
      },
      "execution_count": 22,
      "outputs": [
        {
          "output_type": "stream",
          "name": "stdout",
          "text": [
            "+-------+------+\n",
            "|   Name|Gender|\n",
            "+-------+------+\n",
            "|Priyang|  Male|\n",
            "| Aadhya|Female|\n",
            "| Krisha|Female|\n",
            "| Vedant|  Male|\n",
            "| Parshv|  Male|\n",
            "| Mittal|  Male|\n",
            "|Archana|Female|\n",
            "+-------+------+\n",
            "\n"
          ]
        }
      ]
    },
    {
      "cell_type": "markdown",
      "source": [
        "10. Create new column with Marks+1 and also update existing dataframe\n"
      ],
      "metadata": {
        "id": "FbDTimeSSEVd"
      }
    },
    {
      "cell_type": "code",
      "source": [
        "df = df.withColumn('New_Marks', df.Marks+1)"
      ],
      "metadata": {
        "id": "Bed2dx3KMTAa"
      },
      "execution_count": 25,
      "outputs": []
    },
    {
      "cell_type": "markdown",
      "source": [
        "11. Rename Name columns and Give new name \"Student_Name\""
      ],
      "metadata": {
        "id": "05TuZZGDSLlP"
      }
    },
    {
      "cell_type": "code",
      "source": [
        "df.show()"
      ],
      "metadata": {
        "colab": {
          "base_uri": "https://localhost:8080/"
        },
        "id": "kBzndJNKMfu_",
        "outputId": "2450b6e3-2d70-4bd6-f6e3-3206912c8498"
      },
      "execution_count": 26,
      "outputs": [
        {
          "output_type": "stream",
          "name": "stdout",
          "text": [
            "+-------+-----+------+---------+\n",
            "|   Name|Marks|Gender|New_Marks|\n",
            "+-------+-----+------+---------+\n",
            "|Priyang|   98|  Male|       99|\n",
            "| Aadhya|   89|Female|       90|\n",
            "| Krisha|   99|Female|      100|\n",
            "| Vedant|   87|  Male|       88|\n",
            "| Parshv|   90|  Male|       91|\n",
            "| Mittal|   83|  Male|       84|\n",
            "|Archana|   82|Female|       83|\n",
            "+-------+-----+------+---------+\n",
            "\n"
          ]
        }
      ]
    },
    {
      "cell_type": "code",
      "source": [
        "df = df.withColumnRenamed('Name', 'Student_Name')"
      ],
      "metadata": {
        "id": "UDxfsex4MjYA"
      },
      "execution_count": 29,
      "outputs": []
    },
    {
      "cell_type": "code",
      "source": [
        "df.show()"
      ],
      "metadata": {
        "colab": {
          "base_uri": "https://localhost:8080/"
        },
        "id": "fS5XaZNiM6D1",
        "outputId": "8d3beab6-e777-46bb-dcc5-fc5ccd9e26a5"
      },
      "execution_count": 30,
      "outputs": [
        {
          "output_type": "stream",
          "name": "stdout",
          "text": [
            "+------------+-----+------+---------+\n",
            "|Student_Name|Marks|Gender|New_Marks|\n",
            "+------------+-----+------+---------+\n",
            "|     Priyang|   98|  Male|       99|\n",
            "|      Aadhya|   89|Female|       90|\n",
            "|      Krisha|   99|Female|      100|\n",
            "|      Vedant|   87|  Male|       88|\n",
            "|      Parshv|   90|  Male|       91|\n",
            "|      Mittal|   83|  Male|       84|\n",
            "|     Archana|   82|Female|       83|\n",
            "+------------+-----+------+---------+\n",
            "\n"
          ]
        }
      ]
    },
    {
      "cell_type": "code",
      "source": [
        "df.filter(df['Marks']>90).select('Student_Name')"
      ],
      "metadata": {
        "colab": {
          "base_uri": "https://localhost:8080/"
        },
        "id": "i_BDG6n9M7G6",
        "outputId": "a3f9ed6a-a625-4302-f465-80c66a494c13"
      },
      "execution_count": 31,
      "outputs": [
        {
          "output_type": "execute_result",
          "data": {
            "text/plain": [
              "DataFrame[Student_Name: string]"
            ]
          },
          "metadata": {},
          "execution_count": 31
        }
      ]
    },
    {
      "cell_type": "code",
      "source": [
        "df.filter(df['Marks']>90).select(['Student_Name', 'Gender']).show()"
      ],
      "metadata": {
        "colab": {
          "base_uri": "https://localhost:8080/"
        },
        "id": "CTtL8BAlNSfq",
        "outputId": "a1423cb1-c676-496b-93fe-e6d53cdc5dca"
      },
      "execution_count": 34,
      "outputs": [
        {
          "output_type": "stream",
          "name": "stdout",
          "text": [
            "+------------+------+\n",
            "|Student_Name|Gender|\n",
            "+------------+------+\n",
            "|     Priyang|  Male|\n",
            "|      Krisha|Female|\n",
            "+------------+------+\n",
            "\n"
          ]
        }
      ]
    },
    {
      "cell_type": "code",
      "source": [
        "df.filter((df['Marks']>90) & (df['Gender'] == 'Female')).select('Student_Name').show()"
      ],
      "metadata": {
        "colab": {
          "base_uri": "https://localhost:8080/"
        },
        "id": "pZk5oLszNfgw",
        "outputId": "875f8663-727a-42e3-9cd9-68965cb4d1ff"
      },
      "execution_count": 36,
      "outputs": [
        {
          "output_type": "stream",
          "name": "stdout",
          "text": [
            "+------------+\n",
            "|Student_Name|\n",
            "+------------+\n",
            "|      Krisha|\n",
            "+------------+\n",
            "\n"
          ]
        }
      ]
    },
    {
      "cell_type": "code",
      "source": [
        "df.filter((df['Marks']>90) & (df['Gender'] == 'Male')).select('Student_Name').show()"
      ],
      "metadata": {
        "colab": {
          "base_uri": "https://localhost:8080/"
        },
        "id": "jBs06iS3Oett",
        "outputId": "f4badc64-6967-40ba-9652-1f5bc4e46581"
      },
      "execution_count": 37,
      "outputs": [
        {
          "output_type": "stream",
          "name": "stdout",
          "text": [
            "+------------+\n",
            "|Student_Name|\n",
            "+------------+\n",
            "|     Priyang|\n",
            "+------------+\n",
            "\n"
          ]
        }
      ]
    },
    {
      "cell_type": "code",
      "source": [
        "df.groupby('Gender').mean().select(['Gender', 'avg(Marks)']).show()"
      ],
      "metadata": {
        "colab": {
          "base_uri": "https://localhost:8080/"
        },
        "id": "c7r-vcy5O8dG",
        "outputId": "ab834940-ccac-4dbb-a480-0217c853b4a7"
      },
      "execution_count": 39,
      "outputs": [
        {
          "output_type": "stream",
          "name": "stdout",
          "text": [
            "+------+----------+\n",
            "|Gender|avg(Marks)|\n",
            "+------+----------+\n",
            "|Female|      90.0|\n",
            "|  Male|      89.5|\n",
            "+------+----------+\n",
            "\n"
          ]
        }
      ]
    },
    {
      "cell_type": "code",
      "source": [
        "df.columns"
      ],
      "metadata": {
        "colab": {
          "base_uri": "https://localhost:8080/"
        },
        "id": "jzIAd7qCPNvl",
        "outputId": "ae75601d-0eab-48d4-844b-0c30dd2d3092"
      },
      "execution_count": 40,
      "outputs": [
        {
          "output_type": "execute_result",
          "data": {
            "text/plain": [
              "['Student_Name', 'Marks', 'Gender', 'New_Marks']"
            ]
          },
          "metadata": {},
          "execution_count": 40
        }
      ]
    },
    {
      "cell_type": "code",
      "source": [
        "df.orderBy(df['Marks'].desc()).show()"
      ],
      "metadata": {
        "colab": {
          "base_uri": "https://localhost:8080/"
        },
        "id": "jedNcXXaPc4P",
        "outputId": "2b357cad-374e-433c-bd6b-2ff6e15af6f9"
      },
      "execution_count": 43,
      "outputs": [
        {
          "output_type": "stream",
          "name": "stdout",
          "text": [
            "+------------+-----+------+---------+\n",
            "|Student_Name|Marks|Gender|New_Marks|\n",
            "+------------+-----+------+---------+\n",
            "|      Krisha|   99|Female|      100|\n",
            "|     Priyang|   98|  Male|       99|\n",
            "|      Parshv|   90|  Male|       91|\n",
            "|      Aadhya|   89|Female|       90|\n",
            "|      Vedant|   87|  Male|       88|\n",
            "|      Mittal|   83|  Male|       84|\n",
            "|     Archana|   82|Female|       83|\n",
            "+------------+-----+------+---------+\n",
            "\n"
          ]
        }
      ]
    },
    {
      "cell_type": "code",
      "source": [
        "df.show()"
      ],
      "metadata": {
        "colab": {
          "base_uri": "https://localhost:8080/"
        },
        "id": "6JnBLpxqPk9g",
        "outputId": "5eaafb14-38e5-4794-d1d8-801d102f0a41"
      },
      "execution_count": 44,
      "outputs": [
        {
          "output_type": "stream",
          "name": "stdout",
          "text": [
            "+------------+-----+------+---------+\n",
            "|Student_Name|Marks|Gender|New_Marks|\n",
            "+------------+-----+------+---------+\n",
            "|     Priyang|   98|  Male|       99|\n",
            "|      Aadhya|   89|Female|       90|\n",
            "|      Krisha|   99|Female|      100|\n",
            "|      Vedant|   87|  Male|       88|\n",
            "|      Parshv|   90|  Male|       91|\n",
            "|      Mittal|   83|  Male|       84|\n",
            "|     Archana|   82|Female|       83|\n",
            "+------------+-----+------+---------+\n",
            "\n"
          ]
        }
      ]
    },
    {
      "cell_type": "code",
      "source": [
        "from pyspark.sql.functions import mean"
      ],
      "metadata": {
        "id": "tlOa6uH7P4Nv"
      },
      "execution_count": 45,
      "outputs": []
    },
    {
      "cell_type": "code",
      "source": [
        "mean1 = df.select(mean(df['Marks'])).collect()"
      ],
      "metadata": {
        "id": "dO3OLaF1P83E"
      },
      "execution_count": 46,
      "outputs": []
    },
    {
      "cell_type": "code",
      "source": [
        "mean1[0][0]"
      ],
      "metadata": {
        "colab": {
          "base_uri": "https://localhost:8080/"
        },
        "id": "wjSeo0clQDzT",
        "outputId": "83f00ad8-f4e7-4505-d181-222282470d6b"
      },
      "execution_count": 48,
      "outputs": [
        {
          "output_type": "execute_result",
          "data": {
            "text/plain": [
              "89.71428571428571"
            ]
          },
          "metadata": {},
          "execution_count": 48
        }
      ]
    },
    {
      "cell_type": "code",
      "source": [
        "df.fillna(mean1[0][0]).show()"
      ],
      "metadata": {
        "colab": {
          "base_uri": "https://localhost:8080/"
        },
        "id": "LWU6QeDFQE7z",
        "outputId": "5d019e80-115e-46e4-f2f2-4363ed596934"
      },
      "execution_count": 49,
      "outputs": [
        {
          "output_type": "stream",
          "name": "stdout",
          "text": [
            "+------------+-----+------+---------+\n",
            "|Student_Name|Marks|Gender|New_Marks|\n",
            "+------------+-----+------+---------+\n",
            "|     Priyang|   98|  Male|       99|\n",
            "|      Aadhya|   89|Female|       90|\n",
            "|      Krisha|   99|Female|      100|\n",
            "|      Vedant|   87|  Male|       88|\n",
            "|      Parshv|   90|  Male|       91|\n",
            "|      Mittal|   83|  Male|       84|\n",
            "|     Archana|   82|Female|       83|\n",
            "+------------+-----+------+---------+\n",
            "\n"
          ]
        }
      ]
    }
  ]
}